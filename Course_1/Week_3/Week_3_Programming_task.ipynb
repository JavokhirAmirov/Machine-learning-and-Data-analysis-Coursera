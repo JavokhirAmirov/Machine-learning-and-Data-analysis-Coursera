{
  "nbformat": 4,
  "nbformat_minor": 0,
  "metadata": {
    "colab": {
      "name": "Week-3_Programming_task.ipynb",
      "provenance": [],
      "authorship_tag": "ABX9TyNSh13UPoj8RetJtf9uqX4+",
      "include_colab_link": true
    },
    "kernelspec": {
      "name": "python3",
      "display_name": "Python 3"
    },
    "language_info": {
      "name": "python"
    }
  },
  "cells": [
    {
      "cell_type": "markdown",
      "metadata": {
        "id": "view-in-github",
        "colab_type": "text"
      },
      "source": [
        "<a href=\"https://colab.research.google.com/github/JavokhirAmirov/Machine-learning-and-Data-analysis-Coursera/blob/main/Course_1/Week_3/Week_3_Programming_task.ipynb\" target=\"_parent\"><img src=\"https://colab.research.google.com/assets/colab-badge.svg\" alt=\"Open In Colab\"/></a>"
      ]
    },
    {
      "cell_type": "markdown",
      "metadata": {
        "id": "f1d7XiBWDDPz"
      },
      "source": [
        "# Task_1"
      ]
    },
    {
      "cell_type": "code",
      "metadata": {
        "id": "fj0IPcWco_Ke"
      },
      "source": [
        "import numpy as np\n",
        "from scipy.optimize import minimize, rosen\n",
        "from matplotlib import pyplot as plt\n",
        "%matplotlib inline"
      ],
      "execution_count": 71,
      "outputs": []
    },
    {
      "cell_type": "code",
      "metadata": {
        "id": "HW2jZ2czpXsf"
      },
      "source": [
        "def function(x):\n",
        "  return (np.sin(x / 5) * np.exp(x / 10) + 5 * np.exp(-x / 2))"
      ],
      "execution_count": 75,
      "outputs": []
    },
    {
      "cell_type": "code",
      "metadata": {
        "colab": {
          "base_uri": "https://localhost:8080/"
        },
        "id": "gMJEhMBXprRK",
        "outputId": "a88251df-52b3-409d-a951-e1933e9491b6"
      },
      "source": [
        "print(f(1), f(30))"
      ],
      "execution_count": 76,
      "outputs": [
        {
          "output_type": "stream",
          "text": [
            "3.252216865271419 -5.6122087764738\n"
          ],
          "name": "stdout"
        }
      ]
    },
    {
      "cell_type": "code",
      "metadata": {
        "colab": {
          "base_uri": "https://localhost:8080/"
        },
        "id": "lpxYqyn5p51t",
        "outputId": "7e3a13ea-c55d-45dc-9c74-7cf08f89e1a2"
      },
      "source": [
        "result_1 = optimize.minimize(function, 2, method='BFGS')\n",
        "print(result_1)"
      ],
      "execution_count": 103,
      "outputs": [
        {
          "output_type": "stream",
          "text": [
            "      fun: 1.7452682903449388\n",
            " hess_inv: array([[5.98752437]])\n",
            "      jac: array([-2.07126141e-06])\n",
            "  message: 'Optimization terminated successfully.'\n",
            "     nfev: 21\n",
            "      nit: 6\n",
            "     njev: 7\n",
            "   status: 0\n",
            "  success: True\n",
            "        x: array([4.13627618])\n"
          ],
          "name": "stdout"
        }
      ]
    },
    {
      "cell_type": "code",
      "metadata": {
        "colab": {
          "base_uri": "https://localhost:8080/"
        },
        "id": "F8EV-bq25Y2q",
        "outputId": "03cad607-639a-40d5-dfcc-cfc552d571bc"
      },
      "source": [
        "result_2 = optimize.minimize(function, 30, method='BFGS')\n",
        "print(result_2)"
      ],
      "execution_count": 119,
      "outputs": [
        {
          "output_type": "stream",
          "text": [
            "      fun: -11.898894665981285\n",
            " hess_inv: array([[1.67932484]])\n",
            "      jac: array([2.38418579e-07])\n",
            "  message: 'Optimization terminated successfully.'\n",
            "     nfev: 21\n",
            "      nit: 6\n",
            "     njev: 7\n",
            "   status: 0\n",
            "  success: True\n",
            "        x: array([25.88019339])\n"
          ],
          "name": "stdout"
        }
      ]
    },
    {
      "cell_type": "code",
      "metadata": {
        "id": "oVP-4uXyFcX6"
      },
      "source": [
        "with open('submission1.txt', mode='w') as sub_1:\n",
        "  sub_1.write('4,14 25,88')"
      ],
      "execution_count": 95,
      "outputs": []
    },
    {
      "cell_type": "code",
      "metadata": {
        "colab": {
          "base_uri": "https://localhost:8080/",
          "height": 0
        },
        "id": "I6p6FF5IDedx",
        "outputId": "350adaae-87c1-40c0-d9fd-5d175d75c743"
      },
      "source": [
        "x = np.linspace(1, 2)\n",
        "y = f(x)\n",
        "plt.plot(x, y)\n",
        "plt.show()"
      ],
      "execution_count": 88,
      "outputs": [
        {
          "output_type": "display_data",
          "data": {
            "image/png": "[encoded data removed]",
            "text/plain": [
              "<Figure size 432x288 with 1 Axes>"
            ]
          },
          "metadata": {
            "tags": [],
            "needs_background": "light"
          }
        }
      ]
    },
    {
      "cell_type": "code",
      "metadata": {
        "colab": {
          "base_uri": "https://localhost:8080/",
          "height": 0
        },
        "id": "30H9Q0ELFLoF",
        "outputId": "b39e86aa-4f99-4750-c13e-58717a0a126f"
      },
      "source": [
        "x = np.linspace(1, 30)\n",
        "y = f(x)\n",
        "plt.plot(x, y)\n",
        "plt.show()"
      ],
      "execution_count": 89,
      "outputs": [
        {
          "output_type": "display_data",
          "data": {
            "image/png": "[encoded data removed]",
            "text/plain": [
              "<Figure size 432x288 with 1 Axes>"
            ]
          },
          "metadata": {
            "tags": [],
            "needs_background": "light"
          }
        }
      ]
    },
    {
      "cell_type": "markdown",
      "metadata": {
        "id": "AC6a4Oh6DIwl"
      },
      "source": [
        "# Task_2\n"
      ]
    },
    {
      "cell_type": "code",
      "metadata": {
        "id": "_kyu9_WK6cKh"
      },
      "source": [
        "from scipy.optimize import minimize, differential_evolution"
      ],
      "execution_count": 97,
      "outputs": []
    },
    {
      "cell_type": "code",
      "metadata": {
        "id": "jH0JG4wqIdcr"
      },
      "source": [
        "def function(x):\n",
        "  return (np.sin(x / 5) * np.exp(x / 10) + 5 * np.exp(-x / 2))"
      ],
      "execution_count": 98,
      "outputs": []
    },
    {
      "cell_type": "code",
      "metadata": {
        "colab": {
          "base_uri": "https://localhost:8080/"
        },
        "id": "p5Q4XtCdJNPf",
        "outputId": "a02123b1-9164-4753-ba48-a561607ab349"
      },
      "source": [
        "res = differential_evolution(function, [(1,30)])\n",
        "print(res)"
      ],
      "execution_count": 117,
      "outputs": [
        {
          "output_type": "stream",
          "text": [
            "     fun: array([-11.89889467])\n",
            "     jac: array([3.55271368e-07])\n",
            " message: 'Optimization terminated successfully.'\n",
            "    nfev: 98\n",
            "     nit: 5\n",
            " success: True\n",
            "       x: array([25.88019359])\n"
          ],
          "name": "stdout"
        }
      ]
    },
    {
      "cell_type": "code",
      "metadata": {
        "id": "AsWj01n9JZCo"
      },
      "source": [
        "with open('submission2.txt', mode='w') as sub_2:\n",
        "  sub_2.write('25,88')"
      ],
      "execution_count": 120,
      "outputs": []
    },
    {
      "cell_type": "markdown",
      "metadata": {
        "id": "mFC439DNKaks"
      },
      "source": [
        "# Task_3"
      ]
    },
    {
      "cell_type": "code",
      "metadata": {
        "id": "t_LrVFZCKbEJ"
      },
      "source": [
        "def f(x):\n",
        "  return (np.sin(x / 5) * np.exp(x / 10) + 5 * np.exp(-x / 2))\n",
        "\n",
        "def h(x):\n",
        "  return f(x).astype(int)"
      ],
      "execution_count": 134,
      "outputs": []
    },
    {
      "cell_type": "code",
      "metadata": {
        "colab": {
          "base_uri": "https://localhost:8080/",
          "height": 265
        },
        "id": "uNGo7UrYKjOr",
        "outputId": "5efae3cc-3baf-4a0a-fbd4-9f941e43628f"
      },
      "source": [
        "x = np.linspace(1, 30)\n",
        "y = h(x)\n",
        "\n",
        "plt.plot(x, y)\n",
        "plt.show()"
      ],
      "execution_count": 135,
      "outputs": [
        {
          "output_type": "display_data",
          "data": {
            "image/png": "[encoded data removed]",
            "text/plain": [
              "<Figure size 432x288 with 1 Axes>"
            ]
          },
          "metadata": {
            "tags": [],
            "needs_background": "light"
          }
        }
      ]
    },
    {
      "cell_type": "code",
      "metadata": {
        "colab": {
          "base_uri": "https://localhost:8080/"
        },
        "id": "HNbhDYERLD8s",
        "outputId": "67c135ca-3352-4114-8e8b-903bfd059406"
      },
      "source": [
        "result_3_1 = optimize.minimize(h, 30, method='BFGS')\n",
        "print(result_3_1)"
      ],
      "execution_count": 137,
      "outputs": [
        {
          "output_type": "stream",
          "text": [
            "      fun: array([-5])\n",
            " hess_inv: array([[1]])\n",
            "      jac: array([0.])\n",
            "  message: 'Optimization terminated successfully.'\n",
            "     nfev: 3\n",
            "      nit: 0\n",
            "     njev: 1\n",
            "   status: 0\n",
            "  success: True\n",
            "        x: array([30.]) [30.]\n"
          ],
          "name": "stdout"
        }
      ]
    },
    {
      "cell_type": "code",
      "metadata": {
        "colab": {
          "base_uri": "https://localhost:8080/"
        },
        "id": "zDhi_o4UfNCu",
        "outputId": "d5e3b963-8109-4750-9128-10cddfbfac79"
      },
      "source": [
        "result_3_2 = differential_evolution(h, [(1,30)])\n",
        "print(result_3_2)"
      ],
      "execution_count": 138,
      "outputs": [
        {
          "output_type": "stream",
          "text": [
            "     fun: -11.0\n",
            " message: 'Optimization terminated successfully.'\n",
            "    nfev: 107\n",
            "     nit: 6\n",
            " success: True\n",
            "       x: array([25.09446988])\n"
          ],
          "name": "stdout"
        }
      ]
    },
    {
      "cell_type": "code",
      "metadata": {
        "id": "wvNQ53J2kL4I"
      },
      "source": [
        "with open('submission3.txt', mode='w') as sub_3:\n",
        "  sub_3.write('30 25.1')"
      ],
      "execution_count": 139,
      "outputs": []
    }
  ]
}