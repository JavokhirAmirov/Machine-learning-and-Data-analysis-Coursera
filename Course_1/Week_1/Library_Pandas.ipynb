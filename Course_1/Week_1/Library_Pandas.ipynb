{
  "nbformat": 4,
  "nbformat_minor": 0,
  "metadata": {
    "colab": {
      "name": "Library_Pandas.ipynb",
      "provenance": [],
      "authorship_tag": "ABX9TyPbOryQsYsiB0JOg1oAwf1V",
      "include_colab_link": true
    },
    "kernelspec": {
      "name": "python3",
      "display_name": "Python 3"
    },
    "language_info": {
      "name": "python"
    }
  },
  "cells": [
    {
      "cell_type": "markdown",
      "metadata": {
        "id": "view-in-github",
        "colab_type": "text"
      },
      "source": [
        "<a href=\"https://colab.research.google.com/github/JavokhirAmirov/Machine-learning-and-Data-analysis-Coursera/blob/main/Course_1/Week_1/Library_Pandas.ipynb\" target=\"_parent\"><img src=\"https://colab.research.google.com/assets/colab-badge.svg\" alt=\"Open In Colab\"/></a>"
      ]
    },
    {
      "cell_type": "markdown",
      "metadata": {
        "id": "LTot2f-m8Uks"
      },
      "source": [
        "# Знакомство с Pandas продолжение"
      ]
    },
    {
      "cell_type": "code",
      "metadata": {
        "id": "KMD-Do4v8cya"
      },
      "source": [
        "import pandas as pd"
      ],
      "execution_count": null,
      "outputs": []
    },
    {
      "cell_type": "code",
      "metadata": {
        "id": "ojoaV18T8wAO"
      },
      "source": [
        "frame = pd.read_csv(\"dataset.tsv\", header=0, sep=\"\\t\")"
      ],
      "execution_count": null,
      "outputs": []
    },
    {
      "cell_type": "code",
      "metadata": {
        "colab": {
          "base_uri": "https://localhost:8080/",
          "height": 234
        },
        "id": "2YifwCfU88gO",
        "outputId": "5b9d4f50-9c6b-4628-95a0-aba1d304772b"
      },
      "source": [
        "frame"
      ],
      "execution_count": null,
      "outputs": [
        {
          "output_type": "execute_result",
          "data": {
            "text/html": [
              "<div>\n",
              "<style scoped>\n",
              "    .dataframe tbody tr th:only-of-type {\n",
              "        vertical-align: middle;\n",
              "    }\n",
              "\n",
              "    .dataframe tbody tr th {\n",
              "        vertical-align: top;\n",
              "    }\n",
              "\n",
              "    .dataframe thead th {\n",
              "        text-align: right;\n",
              "    }\n",
              "</style>\n",
              "<table border=\"1\" class=\"dataframe\">\n",
              "  <thead>\n",
              "    <tr style=\"text-align: right;\">\n",
              "      <th></th>\n",
              "      <th>Name</th>\n",
              "      <th>Birth</th>\n",
              "      <th>City</th>\n",
              "      <th>Position</th>\n",
              "    </tr>\n",
              "  </thead>\n",
              "  <tbody>\n",
              "    <tr>\n",
              "      <th>0</th>\n",
              "      <td>Иванов А.А.</td>\n",
              "      <td>22.03.1980</td>\n",
              "      <td>Москва</td>\n",
              "      <td>NaN</td>\n",
              "    </tr>\n",
              "    <tr>\n",
              "      <th>1</th>\n",
              "      <td>Сорокин И.В.</td>\n",
              "      <td>07.08.1965</td>\n",
              "      <td>Волгоград</td>\n",
              "      <td>инженер</td>\n",
              "    </tr>\n",
              "    <tr>\n",
              "      <th>2</th>\n",
              "      <td>Белов М.М.</td>\n",
              "      <td>13.02.1980</td>\n",
              "      <td>Ростов</td>\n",
              "      <td>менеджер</td>\n",
              "    </tr>\n",
              "    <tr>\n",
              "      <th>3</th>\n",
              "      <td>Мельникова Д.С.</td>\n",
              "      <td>15.04.1985</td>\n",
              "      <td>Ростов</td>\n",
              "      <td>NaN</td>\n",
              "    </tr>\n",
              "    <tr>\n",
              "      <th>4</th>\n",
              "      <td>Рыбина Е.П.</td>\n",
              "      <td>19.11.1985</td>\n",
              "      <td>Москва</td>\n",
              "      <td>инженер</td>\n",
              "    </tr>\n",
              "    <tr>\n",
              "      <th>5</th>\n",
              "      <td>Костров С.О.</td>\n",
              "      <td>31.05.1985</td>\n",
              "      <td>Москва</td>\n",
              "      <td>стажер</td>\n",
              "    </tr>\n",
              "  </tbody>\n",
              "</table>\n",
              "</div>"
            ],
            "text/plain": [
              "              Name       Birth       City  Position\n",
              "0      Иванов А.А.  22.03.1980     Москва       NaN\n",
              "1     Сорокин И.В.  07.08.1965  Волгоград   инженер\n",
              "2       Белов М.М.  13.02.1980     Ростов  менеджер\n",
              "3  Мельникова Д.С.  15.04.1985     Ростов       NaN\n",
              "4      Рыбина Е.П.  19.11.1985     Москва   инженер\n",
              "5     Костров С.О.  31.05.1985     Москва    стажер"
            ]
          },
          "metadata": {
            "tags": []
          },
          "execution_count": 6
        }
      ]
    },
    {
      "cell_type": "code",
      "metadata": {
        "colab": {
          "base_uri": "https://localhost:8080/"
        },
        "id": "4-zKXZQ68-dV",
        "outputId": "1ffb550a-20ec-4621-e872-d85a390558be"
      },
      "source": [
        "frame.dtypes"
      ],
      "execution_count": null,
      "outputs": [
        {
          "output_type": "execute_result",
          "data": {
            "text/plain": [
              "Name        object\n",
              "Birth       object\n",
              "City        object\n",
              "Position    object\n",
              "dtype: object"
            ]
          },
          "metadata": {
            "tags": []
          },
          "execution_count": 7
        }
      ]
    },
    {
      "cell_type": "code",
      "metadata": {
        "id": "9DL4KWEM9BfW"
      },
      "source": [
        "frame.Birth = frame.Birth.apply(pd.to_datetime)"
      ],
      "execution_count": null,
      "outputs": []
    },
    {
      "cell_type": "code",
      "metadata": {
        "colab": {
          "base_uri": "https://localhost:8080/",
          "height": 234
        },
        "id": "-Jr-8xKu9TMV",
        "outputId": "635b1d07-051a-433d-e9f9-26f8ab9f7904"
      },
      "source": [
        "frame"
      ],
      "execution_count": null,
      "outputs": [
        {
          "output_type": "execute_result",
          "data": {
            "text/html": [
              "<div>\n",
              "<style scoped>\n",
              "    .dataframe tbody tr th:only-of-type {\n",
              "        vertical-align: middle;\n",
              "    }\n",
              "\n",
              "    .dataframe tbody tr th {\n",
              "        vertical-align: top;\n",
              "    }\n",
              "\n",
              "    .dataframe thead th {\n",
              "        text-align: right;\n",
              "    }\n",
              "</style>\n",
              "<table border=\"1\" class=\"dataframe\">\n",
              "  <thead>\n",
              "    <tr style=\"text-align: right;\">\n",
              "      <th></th>\n",
              "      <th>Name</th>\n",
              "      <th>Birth</th>\n",
              "      <th>City</th>\n",
              "      <th>Position</th>\n",
              "    </tr>\n",
              "  </thead>\n",
              "  <tbody>\n",
              "    <tr>\n",
              "      <th>0</th>\n",
              "      <td>Иванов А.А.</td>\n",
              "      <td>1980-03-22</td>\n",
              "      <td>Москва</td>\n",
              "      <td>NaN</td>\n",
              "    </tr>\n",
              "    <tr>\n",
              "      <th>1</th>\n",
              "      <td>Сорокин И.В.</td>\n",
              "      <td>1965-07-08</td>\n",
              "      <td>Волгоград</td>\n",
              "      <td>инженер</td>\n",
              "    </tr>\n",
              "    <tr>\n",
              "      <th>2</th>\n",
              "      <td>Белов М.М.</td>\n",
              "      <td>1980-02-13</td>\n",
              "      <td>Ростов</td>\n",
              "      <td>менеджер</td>\n",
              "    </tr>\n",
              "    <tr>\n",
              "      <th>3</th>\n",
              "      <td>Мельникова Д.С.</td>\n",
              "      <td>1985-04-15</td>\n",
              "      <td>Ростов</td>\n",
              "      <td>NaN</td>\n",
              "    </tr>\n",
              "    <tr>\n",
              "      <th>4</th>\n",
              "      <td>Рыбина Е.П.</td>\n",
              "      <td>1985-11-19</td>\n",
              "      <td>Москва</td>\n",
              "      <td>инженер</td>\n",
              "    </tr>\n",
              "    <tr>\n",
              "      <th>5</th>\n",
              "      <td>Костров С.О.</td>\n",
              "      <td>1985-05-31</td>\n",
              "      <td>Москва</td>\n",
              "      <td>стажер</td>\n",
              "    </tr>\n",
              "  </tbody>\n",
              "</table>\n",
              "</div>"
            ],
            "text/plain": [
              "              Name      Birth       City  Position\n",
              "0      Иванов А.А. 1980-03-22     Москва       NaN\n",
              "1     Сорокин И.В. 1965-07-08  Волгоград   инженер\n",
              "2       Белов М.М. 1980-02-13     Ростов  менеджер\n",
              "3  Мельникова Д.С. 1985-04-15     Ростов       NaN\n",
              "4      Рыбина Е.П. 1985-11-19     Москва   инженер\n",
              "5     Костров С.О. 1985-05-31     Москва    стажер"
            ]
          },
          "metadata": {
            "tags": []
          },
          "execution_count": 9
        }
      ]
    },
    {
      "cell_type": "code",
      "metadata": {
        "colab": {
          "base_uri": "https://localhost:8080/"
        },
        "id": "1I0218p69Xi3",
        "outputId": "3e8ce702-de53-482e-9656-60bc74540506"
      },
      "source": [
        "frame.dtypes"
      ],
      "execution_count": null,
      "outputs": [
        {
          "output_type": "execute_result",
          "data": {
            "text/plain": [
              "Name                object\n",
              "Birth       datetime64[ns]\n",
              "City                object\n",
              "Position            object\n",
              "dtype: object"
            ]
          },
          "metadata": {
            "tags": []
          },
          "execution_count": 10
        }
      ]
    },
    {
      "cell_type": "code",
      "metadata": {
        "colab": {
          "base_uri": "https://localhost:8080/"
        },
        "id": "WiSSWshS9bC5",
        "outputId": "af9ccf98-b915-4db8-c556-8698b1ef68be"
      },
      "source": [
        "frame.info()"
      ],
      "execution_count": null,
      "outputs": [
        {
          "output_type": "stream",
          "text": [
            "<class 'pandas.core.frame.DataFrame'>\n",
            "RangeIndex: 6 entries, 0 to 5\n",
            "Data columns (total 4 columns):\n",
            " #   Column    Non-Null Count  Dtype         \n",
            "---  ------    --------------  -----         \n",
            " 0   Name      6 non-null      object        \n",
            " 1   Birth     6 non-null      datetime64[ns]\n",
            " 2   City      6 non-null      object        \n",
            " 3   Position  4 non-null      object        \n",
            "dtypes: datetime64[ns](1), object(3)\n",
            "memory usage: 320.0+ bytes\n"
          ],
          "name": "stdout"
        }
      ]
    },
    {
      "cell_type": "code",
      "metadata": {
        "id": "pEhm68PT9e-B"
      },
      "source": [
        "frame.fillna(\"разнорабочий\", inplace=True)"
      ],
      "execution_count": null,
      "outputs": []
    },
    {
      "cell_type": "code",
      "metadata": {
        "colab": {
          "base_uri": "https://localhost:8080/",
          "height": 234
        },
        "id": "UVc2RuJW92dv",
        "outputId": "f2266d48-5dc4-45bf-e8dd-1a2700d7e0cc"
      },
      "source": [
        "frame"
      ],
      "execution_count": null,
      "outputs": [
        {
          "output_type": "execute_result",
          "data": {
            "text/html": [
              "<div>\n",
              "<style scoped>\n",
              "    .dataframe tbody tr th:only-of-type {\n",
              "        vertical-align: middle;\n",
              "    }\n",
              "\n",
              "    .dataframe tbody tr th {\n",
              "        vertical-align: top;\n",
              "    }\n",
              "\n",
              "    .dataframe thead th {\n",
              "        text-align: right;\n",
              "    }\n",
              "</style>\n",
              "<table border=\"1\" class=\"dataframe\">\n",
              "  <thead>\n",
              "    <tr style=\"text-align: right;\">\n",
              "      <th></th>\n",
              "      <th>Name</th>\n",
              "      <th>Birth</th>\n",
              "      <th>City</th>\n",
              "      <th>Position</th>\n",
              "    </tr>\n",
              "  </thead>\n",
              "  <tbody>\n",
              "    <tr>\n",
              "      <th>0</th>\n",
              "      <td>Иванов А.А.</td>\n",
              "      <td>1980-03-22</td>\n",
              "      <td>Москва</td>\n",
              "      <td>разнорабочий</td>\n",
              "    </tr>\n",
              "    <tr>\n",
              "      <th>1</th>\n",
              "      <td>Сорокин И.В.</td>\n",
              "      <td>1965-07-08</td>\n",
              "      <td>Волгоград</td>\n",
              "      <td>инженер</td>\n",
              "    </tr>\n",
              "    <tr>\n",
              "      <th>2</th>\n",
              "      <td>Белов М.М.</td>\n",
              "      <td>1980-02-13</td>\n",
              "      <td>Ростов</td>\n",
              "      <td>менеджер</td>\n",
              "    </tr>\n",
              "    <tr>\n",
              "      <th>3</th>\n",
              "      <td>Мельникова Д.С.</td>\n",
              "      <td>1985-04-15</td>\n",
              "      <td>Ростов</td>\n",
              "      <td>разнорабочий</td>\n",
              "    </tr>\n",
              "    <tr>\n",
              "      <th>4</th>\n",
              "      <td>Рыбина Е.П.</td>\n",
              "      <td>1985-11-19</td>\n",
              "      <td>Москва</td>\n",
              "      <td>инженер</td>\n",
              "    </tr>\n",
              "    <tr>\n",
              "      <th>5</th>\n",
              "      <td>Костров С.О.</td>\n",
              "      <td>1985-05-31</td>\n",
              "      <td>Москва</td>\n",
              "      <td>стажер</td>\n",
              "    </tr>\n",
              "  </tbody>\n",
              "</table>\n",
              "</div>"
            ],
            "text/plain": [
              "              Name      Birth       City      Position\n",
              "0      Иванов А.А. 1980-03-22     Москва  разнорабочий\n",
              "1     Сорокин И.В. 1965-07-08  Волгоград       инженер\n",
              "2       Белов М.М. 1980-02-13     Ростов      менеджер\n",
              "3  Мельникова Д.С. 1985-04-15     Ростов  разнорабочий\n",
              "4      Рыбина Е.П. 1985-11-19     Москва       инженер\n",
              "5     Костров С.О. 1985-05-31     Москва        стажер"
            ]
          },
          "metadata": {
            "tags": []
          },
          "execution_count": 14
        }
      ]
    },
    {
      "cell_type": "code",
      "metadata": {
        "colab": {
          "base_uri": "https://localhost:8080/"
        },
        "id": "GuUKJBuG95Ok",
        "outputId": "28a319b8-33fc-494a-9cd0-605481af0aaa"
      },
      "source": [
        "frame.Position"
      ],
      "execution_count": null,
      "outputs": [
        {
          "output_type": "execute_result",
          "data": {
            "text/plain": [
              "0    разнорабочий\n",
              "1         инженер\n",
              "2        менеджер\n",
              "3    разнорабочий\n",
              "4         инженер\n",
              "5          стажер\n",
              "Name: Position, dtype: object"
            ]
          },
          "metadata": {
            "tags": []
          },
          "execution_count": 15
        }
      ]
    },
    {
      "cell_type": "code",
      "metadata": {
        "colab": {
          "base_uri": "https://localhost:8080/",
          "height": 234
        },
        "id": "Mcj_cGs--Dbe",
        "outputId": "7f48b471-fab3-4a4b-97d5-4d582a0d45c4"
      },
      "source": [
        "frame[[\"Position\"]]"
      ],
      "execution_count": null,
      "outputs": [
        {
          "output_type": "execute_result",
          "data": {
            "text/html": [
              "<div>\n",
              "<style scoped>\n",
              "    .dataframe tbody tr th:only-of-type {\n",
              "        vertical-align: middle;\n",
              "    }\n",
              "\n",
              "    .dataframe tbody tr th {\n",
              "        vertical-align: top;\n",
              "    }\n",
              "\n",
              "    .dataframe thead th {\n",
              "        text-align: right;\n",
              "    }\n",
              "</style>\n",
              "<table border=\"1\" class=\"dataframe\">\n",
              "  <thead>\n",
              "    <tr style=\"text-align: right;\">\n",
              "      <th></th>\n",
              "      <th>Position</th>\n",
              "    </tr>\n",
              "  </thead>\n",
              "  <tbody>\n",
              "    <tr>\n",
              "      <th>0</th>\n",
              "      <td>разнорабочий</td>\n",
              "    </tr>\n",
              "    <tr>\n",
              "      <th>1</th>\n",
              "      <td>инженер</td>\n",
              "    </tr>\n",
              "    <tr>\n",
              "      <th>2</th>\n",
              "      <td>менеджер</td>\n",
              "    </tr>\n",
              "    <tr>\n",
              "      <th>3</th>\n",
              "      <td>разнорабочий</td>\n",
              "    </tr>\n",
              "    <tr>\n",
              "      <th>4</th>\n",
              "      <td>инженер</td>\n",
              "    </tr>\n",
              "    <tr>\n",
              "      <th>5</th>\n",
              "      <td>стажер</td>\n",
              "    </tr>\n",
              "  </tbody>\n",
              "</table>\n",
              "</div>"
            ],
            "text/plain": [
              "       Position\n",
              "0  разнорабочий\n",
              "1       инженер\n",
              "2      менеджер\n",
              "3  разнорабочий\n",
              "4       инженер\n",
              "5        стажер"
            ]
          },
          "metadata": {
            "tags": []
          },
          "execution_count": 17
        }
      ]
    },
    {
      "cell_type": "code",
      "metadata": {
        "colab": {
          "base_uri": "https://localhost:8080/",
          "height": 234
        },
        "id": "UwNXJqT9-LHA",
        "outputId": "819ccb42-edf8-4572-cf07-08b2b7bb76d9"
      },
      "source": [
        "frame[[\"Name\", \"Position\"]]"
      ],
      "execution_count": null,
      "outputs": [
        {
          "output_type": "execute_result",
          "data": {
            "text/html": [
              "<div>\n",
              "<style scoped>\n",
              "    .dataframe tbody tr th:only-of-type {\n",
              "        vertical-align: middle;\n",
              "    }\n",
              "\n",
              "    .dataframe tbody tr th {\n",
              "        vertical-align: top;\n",
              "    }\n",
              "\n",
              "    .dataframe thead th {\n",
              "        text-align: right;\n",
              "    }\n",
              "</style>\n",
              "<table border=\"1\" class=\"dataframe\">\n",
              "  <thead>\n",
              "    <tr style=\"text-align: right;\">\n",
              "      <th></th>\n",
              "      <th>Name</th>\n",
              "      <th>Position</th>\n",
              "    </tr>\n",
              "  </thead>\n",
              "  <tbody>\n",
              "    <tr>\n",
              "      <th>0</th>\n",
              "      <td>Иванов А.А.</td>\n",
              "      <td>разнорабочий</td>\n",
              "    </tr>\n",
              "    <tr>\n",
              "      <th>1</th>\n",
              "      <td>Сорокин И.В.</td>\n",
              "      <td>инженер</td>\n",
              "    </tr>\n",
              "    <tr>\n",
              "      <th>2</th>\n",
              "      <td>Белов М.М.</td>\n",
              "      <td>менеджер</td>\n",
              "    </tr>\n",
              "    <tr>\n",
              "      <th>3</th>\n",
              "      <td>Мельникова Д.С.</td>\n",
              "      <td>разнорабочий</td>\n",
              "    </tr>\n",
              "    <tr>\n",
              "      <th>4</th>\n",
              "      <td>Рыбина Е.П.</td>\n",
              "      <td>инженер</td>\n",
              "    </tr>\n",
              "    <tr>\n",
              "      <th>5</th>\n",
              "      <td>Костров С.О.</td>\n",
              "      <td>стажер</td>\n",
              "    </tr>\n",
              "  </tbody>\n",
              "</table>\n",
              "</div>"
            ],
            "text/plain": [
              "              Name      Position\n",
              "0      Иванов А.А.  разнорабочий\n",
              "1     Сорокин И.В.       инженер\n",
              "2       Белов М.М.      менеджер\n",
              "3  Мельникова Д.С.  разнорабочий\n",
              "4      Рыбина Е.П.       инженер\n",
              "5     Костров С.О.        стажер"
            ]
          },
          "metadata": {
            "tags": []
          },
          "execution_count": 18
        }
      ]
    },
    {
      "cell_type": "code",
      "metadata": {
        "colab": {
          "base_uri": "https://localhost:8080/",
          "height": 142
        },
        "id": "w6bgtWym-edQ",
        "outputId": "b6c9db75-fbcc-451f-894a-5dbd4959a768"
      },
      "source": [
        "frame.head(3)"
      ],
      "execution_count": null,
      "outputs": [
        {
          "output_type": "execute_result",
          "data": {
            "text/html": [
              "<div>\n",
              "<style scoped>\n",
              "    .dataframe tbody tr th:only-of-type {\n",
              "        vertical-align: middle;\n",
              "    }\n",
              "\n",
              "    .dataframe tbody tr th {\n",
              "        vertical-align: top;\n",
              "    }\n",
              "\n",
              "    .dataframe thead th {\n",
              "        text-align: right;\n",
              "    }\n",
              "</style>\n",
              "<table border=\"1\" class=\"dataframe\">\n",
              "  <thead>\n",
              "    <tr style=\"text-align: right;\">\n",
              "      <th></th>\n",
              "      <th>Name</th>\n",
              "      <th>Birth</th>\n",
              "      <th>City</th>\n",
              "      <th>Position</th>\n",
              "    </tr>\n",
              "  </thead>\n",
              "  <tbody>\n",
              "    <tr>\n",
              "      <th>0</th>\n",
              "      <td>Иванов А.А.</td>\n",
              "      <td>1980-03-22</td>\n",
              "      <td>Москва</td>\n",
              "      <td>разнорабочий</td>\n",
              "    </tr>\n",
              "    <tr>\n",
              "      <th>1</th>\n",
              "      <td>Сорокин И.В.</td>\n",
              "      <td>1965-07-08</td>\n",
              "      <td>Волгоград</td>\n",
              "      <td>инженер</td>\n",
              "    </tr>\n",
              "    <tr>\n",
              "      <th>2</th>\n",
              "      <td>Белов М.М.</td>\n",
              "      <td>1980-02-13</td>\n",
              "      <td>Ростов</td>\n",
              "      <td>менеджер</td>\n",
              "    </tr>\n",
              "  </tbody>\n",
              "</table>\n",
              "</div>"
            ],
            "text/plain": [
              "           Name      Birth       City      Position\n",
              "0   Иванов А.А. 1980-03-22     Москва  разнорабочий\n",
              "1  Сорокин И.В. 1965-07-08  Волгоград       инженер\n",
              "2    Белов М.М. 1980-02-13     Ростов      менеджер"
            ]
          },
          "metadata": {
            "tags": []
          },
          "execution_count": 19
        }
      ]
    },
    {
      "cell_type": "code",
      "metadata": {
        "colab": {
          "base_uri": "https://localhost:8080/",
          "height": 142
        },
        "id": "Dot7vwZe-iFN",
        "outputId": "68f7de1f-c82b-4b25-b288-afdca07c6a89"
      },
      "source": [
        "frame[:3]"
      ],
      "execution_count": null,
      "outputs": [
        {
          "output_type": "execute_result",
          "data": {
            "text/html": [
              "<div>\n",
              "<style scoped>\n",
              "    .dataframe tbody tr th:only-of-type {\n",
              "        vertical-align: middle;\n",
              "    }\n",
              "\n",
              "    .dataframe tbody tr th {\n",
              "        vertical-align: top;\n",
              "    }\n",
              "\n",
              "    .dataframe thead th {\n",
              "        text-align: right;\n",
              "    }\n",
              "</style>\n",
              "<table border=\"1\" class=\"dataframe\">\n",
              "  <thead>\n",
              "    <tr style=\"text-align: right;\">\n",
              "      <th></th>\n",
              "      <th>Name</th>\n",
              "      <th>Birth</th>\n",
              "      <th>City</th>\n",
              "      <th>Position</th>\n",
              "    </tr>\n",
              "  </thead>\n",
              "  <tbody>\n",
              "    <tr>\n",
              "      <th>0</th>\n",
              "      <td>Иванов А.А.</td>\n",
              "      <td>1980-03-22</td>\n",
              "      <td>Москва</td>\n",
              "      <td>разнорабочий</td>\n",
              "    </tr>\n",
              "    <tr>\n",
              "      <th>1</th>\n",
              "      <td>Сорокин И.В.</td>\n",
              "      <td>1965-07-08</td>\n",
              "      <td>Волгоград</td>\n",
              "      <td>инженер</td>\n",
              "    </tr>\n",
              "    <tr>\n",
              "      <th>2</th>\n",
              "      <td>Белов М.М.</td>\n",
              "      <td>1980-02-13</td>\n",
              "      <td>Ростов</td>\n",
              "      <td>менеджер</td>\n",
              "    </tr>\n",
              "  </tbody>\n",
              "</table>\n",
              "</div>"
            ],
            "text/plain": [
              "           Name      Birth       City      Position\n",
              "0   Иванов А.А. 1980-03-22     Москва  разнорабочий\n",
              "1  Сорокин И.В. 1965-07-08  Волгоград       инженер\n",
              "2    Белов М.М. 1980-02-13     Ростов      менеджер"
            ]
          },
          "metadata": {
            "tags": []
          },
          "execution_count": 20
        }
      ]
    },
    {
      "cell_type": "code",
      "metadata": {
        "colab": {
          "base_uri": "https://localhost:8080/",
          "height": 142
        },
        "id": "v7qRcu_S-lZv",
        "outputId": "424a786c-b300-40af-f99a-553f0ef39305"
      },
      "source": [
        "frame[-3:]"
      ],
      "execution_count": null,
      "outputs": [
        {
          "output_type": "execute_result",
          "data": {
            "text/html": [
              "<div>\n",
              "<style scoped>\n",
              "    .dataframe tbody tr th:only-of-type {\n",
              "        vertical-align: middle;\n",
              "    }\n",
              "\n",
              "    .dataframe tbody tr th {\n",
              "        vertical-align: top;\n",
              "    }\n",
              "\n",
              "    .dataframe thead th {\n",
              "        text-align: right;\n",
              "    }\n",
              "</style>\n",
              "<table border=\"1\" class=\"dataframe\">\n",
              "  <thead>\n",
              "    <tr style=\"text-align: right;\">\n",
              "      <th></th>\n",
              "      <th>Name</th>\n",
              "      <th>Birth</th>\n",
              "      <th>City</th>\n",
              "      <th>Position</th>\n",
              "    </tr>\n",
              "  </thead>\n",
              "  <tbody>\n",
              "    <tr>\n",
              "      <th>3</th>\n",
              "      <td>Мельникова Д.С.</td>\n",
              "      <td>1985-04-15</td>\n",
              "      <td>Ростов</td>\n",
              "      <td>разнорабочий</td>\n",
              "    </tr>\n",
              "    <tr>\n",
              "      <th>4</th>\n",
              "      <td>Рыбина Е.П.</td>\n",
              "      <td>1985-11-19</td>\n",
              "      <td>Москва</td>\n",
              "      <td>инженер</td>\n",
              "    </tr>\n",
              "    <tr>\n",
              "      <th>5</th>\n",
              "      <td>Костров С.О.</td>\n",
              "      <td>1985-05-31</td>\n",
              "      <td>Москва</td>\n",
              "      <td>стажер</td>\n",
              "    </tr>\n",
              "  </tbody>\n",
              "</table>\n",
              "</div>"
            ],
            "text/plain": [
              "              Name      Birth    City      Position\n",
              "3  Мельникова Д.С. 1985-04-15  Ростов  разнорабочий\n",
              "4      Рыбина Е.П. 1985-11-19  Москва       инженер\n",
              "5     Костров С.О. 1985-05-31  Москва        стажер"
            ]
          },
          "metadata": {
            "tags": []
          },
          "execution_count": 21
        }
      ]
    },
    {
      "cell_type": "code",
      "metadata": {
        "colab": {
          "base_uri": "https://localhost:8080/",
          "height": 142
        },
        "id": "ZriMfpFs-olt",
        "outputId": "a1fd3650-1a69-400e-8b6b-399ec5b9672a"
      },
      "source": [
        "frame.loc[[1, 3, 5], [\"Name\", \"City\"]]"
      ],
      "execution_count": null,
      "outputs": [
        {
          "output_type": "execute_result",
          "data": {
            "text/html": [
              "<div>\n",
              "<style scoped>\n",
              "    .dataframe tbody tr th:only-of-type {\n",
              "        vertical-align: middle;\n",
              "    }\n",
              "\n",
              "    .dataframe tbody tr th {\n",
              "        vertical-align: top;\n",
              "    }\n",
              "\n",
              "    .dataframe thead th {\n",
              "        text-align: right;\n",
              "    }\n",
              "</style>\n",
              "<table border=\"1\" class=\"dataframe\">\n",
              "  <thead>\n",
              "    <tr style=\"text-align: right;\">\n",
              "      <th></th>\n",
              "      <th>Name</th>\n",
              "      <th>City</th>\n",
              "    </tr>\n",
              "  </thead>\n",
              "  <tbody>\n",
              "    <tr>\n",
              "      <th>1</th>\n",
              "      <td>Сорокин И.В.</td>\n",
              "      <td>Волгоград</td>\n",
              "    </tr>\n",
              "    <tr>\n",
              "      <th>3</th>\n",
              "      <td>Мельникова Д.С.</td>\n",
              "      <td>Ростов</td>\n",
              "    </tr>\n",
              "    <tr>\n",
              "      <th>5</th>\n",
              "      <td>Костров С.О.</td>\n",
              "      <td>Москва</td>\n",
              "    </tr>\n",
              "  </tbody>\n",
              "</table>\n",
              "</div>"
            ],
            "text/plain": [
              "              Name       City\n",
              "1     Сорокин И.В.  Волгоград\n",
              "3  Мельникова Д.С.     Ростов\n",
              "5     Костров С.О.     Москва"
            ]
          },
          "metadata": {
            "tags": []
          },
          "execution_count": 22
        }
      ]
    },
    {
      "cell_type": "code",
      "metadata": {
        "colab": {
          "base_uri": "https://localhost:8080/",
          "height": 142
        },
        "id": "_UUihhBS-1rV",
        "outputId": "a43f8546-58fb-40d8-e6e9-0d839c322a0f"
      },
      "source": [
        "frame.iloc[[1, 3, 5], [0, 2]]"
      ],
      "execution_count": null,
      "outputs": [
        {
          "output_type": "execute_result",
          "data": {
            "text/html": [
              "<div>\n",
              "<style scoped>\n",
              "    .dataframe tbody tr th:only-of-type {\n",
              "        vertical-align: middle;\n",
              "    }\n",
              "\n",
              "    .dataframe tbody tr th {\n",
              "        vertical-align: top;\n",
              "    }\n",
              "\n",
              "    .dataframe thead th {\n",
              "        text-align: right;\n",
              "    }\n",
              "</style>\n",
              "<table border=\"1\" class=\"dataframe\">\n",
              "  <thead>\n",
              "    <tr style=\"text-align: right;\">\n",
              "      <th></th>\n",
              "      <th>Name</th>\n",
              "      <th>City</th>\n",
              "    </tr>\n",
              "  </thead>\n",
              "  <tbody>\n",
              "    <tr>\n",
              "      <th>1</th>\n",
              "      <td>Сорокин И.В.</td>\n",
              "      <td>Волгоград</td>\n",
              "    </tr>\n",
              "    <tr>\n",
              "      <th>3</th>\n",
              "      <td>Мельникова Д.С.</td>\n",
              "      <td>Ростов</td>\n",
              "    </tr>\n",
              "    <tr>\n",
              "      <th>5</th>\n",
              "      <td>Костров С.О.</td>\n",
              "      <td>Москва</td>\n",
              "    </tr>\n",
              "  </tbody>\n",
              "</table>\n",
              "</div>"
            ],
            "text/plain": [
              "              Name       City\n",
              "1     Сорокин И.В.  Волгоград\n",
              "3  Мельникова Д.С.     Ростов\n",
              "5     Костров С.О.     Москва"
            ]
          },
          "metadata": {
            "tags": []
          },
          "execution_count": 23
        }
      ]
    },
    {
      "cell_type": "code",
      "metadata": {
        "colab": {
          "base_uri": "https://localhost:8080/",
          "height": 195
        },
        "id": "zdIIIS36_Ff1",
        "outputId": "199e7ad5-a241-4966-dd94-f88ed656f737"
      },
      "source": [
        "frame[frame.Birth >= pd.datetime(1985,1,1)]"
      ],
      "execution_count": null,
      "outputs": [
        {
          "output_type": "stream",
          "text": [
            "/usr/local/lib/python3.7/dist-packages/ipykernel_launcher.py:1: FutureWarning: The pandas.datetime class is deprecated and will be removed from pandas in a future version. Import from datetime module instead.\n",
            "  \"\"\"Entry point for launching an IPython kernel.\n"
          ],
          "name": "stderr"
        },
        {
          "output_type": "execute_result",
          "data": {
            "text/html": [
              "<div>\n",
              "<style scoped>\n",
              "    .dataframe tbody tr th:only-of-type {\n",
              "        vertical-align: middle;\n",
              "    }\n",
              "\n",
              "    .dataframe tbody tr th {\n",
              "        vertical-align: top;\n",
              "    }\n",
              "\n",
              "    .dataframe thead th {\n",
              "        text-align: right;\n",
              "    }\n",
              "</style>\n",
              "<table border=\"1\" class=\"dataframe\">\n",
              "  <thead>\n",
              "    <tr style=\"text-align: right;\">\n",
              "      <th></th>\n",
              "      <th>Name</th>\n",
              "      <th>Birth</th>\n",
              "      <th>City</th>\n",
              "      <th>Position</th>\n",
              "    </tr>\n",
              "  </thead>\n",
              "  <tbody>\n",
              "    <tr>\n",
              "      <th>3</th>\n",
              "      <td>Мельникова Д.С.</td>\n",
              "      <td>1985-04-15</td>\n",
              "      <td>Ростов</td>\n",
              "      <td>разнорабочий</td>\n",
              "    </tr>\n",
              "    <tr>\n",
              "      <th>4</th>\n",
              "      <td>Рыбина Е.П.</td>\n",
              "      <td>1985-11-19</td>\n",
              "      <td>Москва</td>\n",
              "      <td>инженер</td>\n",
              "    </tr>\n",
              "    <tr>\n",
              "      <th>5</th>\n",
              "      <td>Костров С.О.</td>\n",
              "      <td>1985-05-31</td>\n",
              "      <td>Москва</td>\n",
              "      <td>стажер</td>\n",
              "    </tr>\n",
              "  </tbody>\n",
              "</table>\n",
              "</div>"
            ],
            "text/plain": [
              "              Name      Birth    City      Position\n",
              "3  Мельникова Д.С. 1985-04-15  Ростов  разнорабочий\n",
              "4      Рыбина Е.П. 1985-11-19  Москва       инженер\n",
              "5     Костров С.О. 1985-05-31  Москва        стажер"
            ]
          },
          "metadata": {
            "tags": []
          },
          "execution_count": 26
        }
      ]
    },
    {
      "cell_type": "code",
      "metadata": {
        "colab": {
          "base_uri": "https://localhost:8080/",
          "height": 134
        },
        "id": "n2ysajvA_XIY",
        "outputId": "5a53e6ac-ade5-462a-cebb-62efe19c63ed"
      },
      "source": [
        "frame[(frame.Birth >= pd.datetime(1985,1,1)) & (frame.City != \"Москва\")]"
      ],
      "execution_count": null,
      "outputs": [
        {
          "output_type": "stream",
          "text": [
            "/usr/local/lib/python3.7/dist-packages/ipykernel_launcher.py:1: FutureWarning: The pandas.datetime class is deprecated and will be removed from pandas in a future version. Import from datetime module instead.\n",
            "  \"\"\"Entry point for launching an IPython kernel.\n"
          ],
          "name": "stderr"
        },
        {
          "output_type": "execute_result",
          "data": {
            "text/html": [
              "<div>\n",
              "<style scoped>\n",
              "    .dataframe tbody tr th:only-of-type {\n",
              "        vertical-align: middle;\n",
              "    }\n",
              "\n",
              "    .dataframe tbody tr th {\n",
              "        vertical-align: top;\n",
              "    }\n",
              "\n",
              "    .dataframe thead th {\n",
              "        text-align: right;\n",
              "    }\n",
              "</style>\n",
              "<table border=\"1\" class=\"dataframe\">\n",
              "  <thead>\n",
              "    <tr style=\"text-align: right;\">\n",
              "      <th></th>\n",
              "      <th>Name</th>\n",
              "      <th>Birth</th>\n",
              "      <th>City</th>\n",
              "      <th>Position</th>\n",
              "    </tr>\n",
              "  </thead>\n",
              "  <tbody>\n",
              "    <tr>\n",
              "      <th>3</th>\n",
              "      <td>Мельникова Д.С.</td>\n",
              "      <td>1985-04-15</td>\n",
              "      <td>Ростов</td>\n",
              "      <td>разнорабочий</td>\n",
              "    </tr>\n",
              "  </tbody>\n",
              "</table>\n",
              "</div>"
            ],
            "text/plain": [
              "              Name      Birth    City      Position\n",
              "3  Мельникова Д.С. 1985-04-15  Ростов  разнорабочий"
            ]
          },
          "metadata": {
            "tags": []
          },
          "execution_count": 27
        }
      ]
    },
    {
      "cell_type": "code",
      "metadata": {
        "colab": {
          "base_uri": "https://localhost:8080/",
          "height": 226
        },
        "id": "kvmCCHghCIu1",
        "outputId": "9f822d1b-437c-4861-d5aa-d3caa1b39798"
      },
      "source": [
        "frame[(frame.Birth >= pd.datetime(1985,1,1)) | (frame.City == \"Волгоград\")]"
      ],
      "execution_count": null,
      "outputs": [
        {
          "output_type": "stream",
          "text": [
            "/usr/local/lib/python3.7/dist-packages/ipykernel_launcher.py:1: FutureWarning: The pandas.datetime class is deprecated and will be removed from pandas in a future version. Import from datetime module instead.\n",
            "  \"\"\"Entry point for launching an IPython kernel.\n"
          ],
          "name": "stderr"
        },
        {
          "output_type": "execute_result",
          "data": {
            "text/html": [
              "<div>\n",
              "<style scoped>\n",
              "    .dataframe tbody tr th:only-of-type {\n",
              "        vertical-align: middle;\n",
              "    }\n",
              "\n",
              "    .dataframe tbody tr th {\n",
              "        vertical-align: top;\n",
              "    }\n",
              "\n",
              "    .dataframe thead th {\n",
              "        text-align: right;\n",
              "    }\n",
              "</style>\n",
              "<table border=\"1\" class=\"dataframe\">\n",
              "  <thead>\n",
              "    <tr style=\"text-align: right;\">\n",
              "      <th></th>\n",
              "      <th>Name</th>\n",
              "      <th>Birth</th>\n",
              "      <th>City</th>\n",
              "      <th>Position</th>\n",
              "    </tr>\n",
              "  </thead>\n",
              "  <tbody>\n",
              "    <tr>\n",
              "      <th>1</th>\n",
              "      <td>Сорокин И.В.</td>\n",
              "      <td>1965-07-08</td>\n",
              "      <td>Волгоград</td>\n",
              "      <td>инженер</td>\n",
              "    </tr>\n",
              "    <tr>\n",
              "      <th>3</th>\n",
              "      <td>Мельникова Д.С.</td>\n",
              "      <td>1985-04-15</td>\n",
              "      <td>Ростов</td>\n",
              "      <td>разнорабочий</td>\n",
              "    </tr>\n",
              "    <tr>\n",
              "      <th>4</th>\n",
              "      <td>Рыбина Е.П.</td>\n",
              "      <td>1985-11-19</td>\n",
              "      <td>Москва</td>\n",
              "      <td>инженер</td>\n",
              "    </tr>\n",
              "    <tr>\n",
              "      <th>5</th>\n",
              "      <td>Костров С.О.</td>\n",
              "      <td>1985-05-31</td>\n",
              "      <td>Москва</td>\n",
              "      <td>стажер</td>\n",
              "    </tr>\n",
              "  </tbody>\n",
              "</table>\n",
              "</div>"
            ],
            "text/plain": [
              "              Name      Birth       City      Position\n",
              "1     Сорокин И.В. 1965-07-08  Волгоград       инженер\n",
              "3  Мельникова Д.С. 1985-04-15     Ростов  разнорабочий\n",
              "4      Рыбина Е.П. 1985-11-19     Москва       инженер\n",
              "5     Костров С.О. 1985-05-31     Москва        стажер"
            ]
          },
          "metadata": {
            "tags": []
          },
          "execution_count": 29
        }
      ]
    },
    {
      "cell_type": "code",
      "metadata": {
        "id": "Di8sySJ2CXum"
      },
      "source": [
        ""
      ],
      "execution_count": null,
      "outputs": []
    }
  ]
}