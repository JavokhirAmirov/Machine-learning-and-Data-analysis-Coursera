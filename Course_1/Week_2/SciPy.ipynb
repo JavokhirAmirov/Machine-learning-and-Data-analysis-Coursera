{
  "nbformat": 4,
  "nbformat_minor": 0,
  "metadata": {
    "colab": {
      "name": "SciPy.ipynb",
      "provenance": [],
      "authorship_tag": "ABX9TyOZh8x3ntIPZVN9uWBhR14C",
      "include_colab_link": true
    },
    "kernelspec": {
      "name": "python3",
      "display_name": "Python 3"
    },
    "language_info": {
      "name": "python"
    }
  },
  "cells": [
    {
      "cell_type": "markdown",
      "metadata": {
        "id": "view-in-github",
        "colab_type": "text"
      },
      "source": [
        "<a href=\"https://colab.research.google.com/github/JavokhirAmirov/Machine-learning-and-Data-analysis-Coursera/blob/main/Course_1/Week_2/SciPy.ipynb\" target=\"_parent\"><img src=\"https://colab.research.google.com/assets/colab-badge.svg\" alt=\"Open In Colab\"/></a>"
      ]
    },
    {
      "cell_type": "markdown",
      "metadata": {
        "id": "z8Gwj8lpzofK"
      },
      "source": [
        "# Решение оптимизационных задач в SciPy"
      ]
    },
    {
      "cell_type": "code",
      "metadata": {
        "id": "fMp-ZwR8zjNa"
      },
      "source": [
        "from scipy import optimize"
      ],
      "execution_count": 1,
      "outputs": []
    },
    {
      "cell_type": "code",
      "metadata": {
        "colab": {
          "base_uri": "https://localhost:8080/"
        },
        "id": "Oz6PStl8z22W",
        "outputId": "6b99ce25-912d-4c41-a445-2f950b3b13a2"
      },
      "source": [
        "def f(x):        # The rosenbrock function\n",
        "  return 0.5 * (1 - x[0]) ** 2 + (x[1] - x[0] ** 2) ** 2 \n",
        "\n",
        "print(f([1, 1]))"
      ],
      "execution_count": 2,
      "outputs": [
        {
          "output_type": "stream",
          "text": [
            "0.0\n"
          ],
          "name": "stdout"
        }
      ]
    },
    {
      "cell_type": "code",
      "metadata": {
        "colab": {
          "base_uri": "https://localhost:8080/"
        },
        "id": "3MNj5EUNz1lX",
        "outputId": "d37f88ab-d033-4fc4-bff0-cd8f4c5edce9"
      },
      "source": [
        "result = optimize.brute(f, ((-5, 5), (-5, 5)))\n",
        "print(result)"
      ],
      "execution_count": 3,
      "outputs": [
        {
          "output_type": "stream",
          "text": [
            "[0.99999324 1.00001283]\n"
          ],
          "name": "stdout"
        }
      ]
    },
    {
      "cell_type": "code",
      "metadata": {
        "colab": {
          "base_uri": "https://localhost:8080/"
        },
        "id": "ZLCzQ2-Jz1n6",
        "outputId": "79db3597-20fb-45c8-c550-c7a3dab4f408"
      },
      "source": [
        "print(optimize.differential_evolution(f, ((-5, 5), (-5, 5))))"
      ],
      "execution_count": 4,
      "outputs": [
        {
          "output_type": "stream",
          "text": [
            "     fun: 7.395570986446986e-32\n",
            " message: 'Optimization terminated successfully.'\n",
            "    nfev: 3513\n",
            "     nit: 116\n",
            " success: True\n",
            "       x: array([1., 1.])\n"
          ],
          "name": "stdout"
        }
      ]
    },
    {
      "cell_type": "code",
      "metadata": {
        "id": "FPTtZBLXz1s0"
      },
      "source": [
        "import numpy as np\n",
        "\n",
        "def g(x):\n",
        "  return np.array((-2 * 0.5 * (1 - x[0]) - 4 * x[0] * (x[1] - x[0] ** 2), 2 * (x[1] - x[0] ** 2)))"
      ],
      "execution_count": 5,
      "outputs": []
    },
    {
      "cell_type": "code",
      "metadata": {
        "colab": {
          "base_uri": "https://localhost:8080/"
        },
        "id": "VJy7fdaez1vM",
        "outputId": "74ae32e7-2986-44f3-8aa0-e11a72b14a7d"
      },
      "source": [
        "print(optimize.check_grad(f, g, [2, 2]))"
      ],
      "execution_count": 6,
      "outputs": [
        {
          "output_type": "stream",
          "text": [
            "2.384185791015625e-07\n"
          ],
          "name": "stdout"
        }
      ]
    },
    {
      "cell_type": "code",
      "metadata": {
        "colab": {
          "base_uri": "https://localhost:8080/"
        },
        "id": "A7zZhFJQz1xo",
        "outputId": "bfdab702-6a58-46ff-fff2-bfc99b280387"
      },
      "source": [
        "print(optimize.fmin_bfgs(f, [2, 2], fprime=g))"
      ],
      "execution_count": 7,
      "outputs": [
        {
          "output_type": "stream",
          "text": [
            "Optimization terminated successfully.\n",
            "         Current function value: 0.000000\n",
            "         Iterations: 8\n",
            "         Function evaluations: 9\n",
            "         Gradient evaluations: 9\n",
            "[1.00000582 1.00001285]\n"
          ],
          "name": "stdout"
        }
      ]
    },
    {
      "cell_type": "code",
      "metadata": {
        "colab": {
          "base_uri": "https://localhost:8080/"
        },
        "id": "XcP4UwVBz10A",
        "outputId": "a347a5a4-9255-4b73-aa9b-3fe427bac2c4"
      },
      "source": [
        "print(optimize.minimize(f, [2, 2]))"
      ],
      "execution_count": 8,
      "outputs": [
        {
          "output_type": "stream",
          "text": [
            "      fun: 1.7838062508711572e-11\n",
            " hess_inv: array([[0.9548906 , 1.90006628],\n",
            "       [1.90006628, 4.2787237 ]])\n",
            "      jac: array([9.88092441e-07, 2.41749253e-06])\n",
            "  message: 'Optimization terminated successfully.'\n",
            "     nfev: 36\n",
            "      nit: 8\n",
            "     njev: 9\n",
            "   status: 0\n",
            "  success: True\n",
            "        x: array([1.00000573, 1.00001265])\n"
          ],
          "name": "stdout"
        }
      ]
    },
    {
      "cell_type": "code",
      "metadata": {
        "colab": {
          "base_uri": "https://localhost:8080/"
        },
        "id": "zPcAHRx8z12o",
        "outputId": "349fafd4-090d-4158-fb01-e4ba75bf635e"
      },
      "source": [
        "print(optimize.minimize(f, [2, 2], method='BFGS'))"
      ],
      "execution_count": 10,
      "outputs": [
        {
          "output_type": "stream",
          "text": [
            "      fun: 1.7838062508711572e-11\n",
            " hess_inv: array([[0.9548906 , 1.90006628],\n",
            "       [1.90006628, 4.2787237 ]])\n",
            "      jac: array([9.88092441e-07, 2.41749253e-06])\n",
            "  message: 'Optimization terminated successfully.'\n",
            "     nfev: 36\n",
            "      nit: 8\n",
            "     njev: 9\n",
            "   status: 0\n",
            "  success: True\n",
            "        x: array([1.00000573, 1.00001265])\n"
          ],
          "name": "stdout"
        }
      ]
    },
    {
      "cell_type": "code",
      "metadata": {
        "colab": {
          "base_uri": "https://localhost:8080/"
        },
        "id": "8ricr2J8z15N",
        "outputId": "03337bd0-5f92-4ea9-8358-4b09dc05429a"
      },
      "source": [
        "print(optimize.minimize(f, [2, 2], method='Nelder-Mead'))"
      ],
      "execution_count": 11,
      "outputs": [
        {
          "output_type": "stream",
          "text": [
            " final_simplex: (array([[0.99998568, 0.99996682],\n",
            "       [1.00002149, 1.00004744],\n",
            "       [1.0000088 , 1.00003552]]), array([1.23119954e-10, 2.50768082e-10, 3.59639951e-10]))\n",
            "           fun: 1.2311995365407462e-10\n",
            "       message: 'Optimization terminated successfully.'\n",
            "          nfev: 91\n",
            "           nit: 46\n",
            "        status: 0\n",
            "       success: True\n",
            "             x: array([0.99998568, 0.99996682])\n"
          ],
          "name": "stdout"
        }
      ]
    }
  ]
}