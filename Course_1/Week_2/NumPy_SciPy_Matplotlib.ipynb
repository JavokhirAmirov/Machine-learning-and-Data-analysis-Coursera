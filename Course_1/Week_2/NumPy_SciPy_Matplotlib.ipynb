{
  "nbformat": 4,
  "nbformat_minor": 0,
  "metadata": {
    "colab": {
      "name": "NumPy_SciPy_Matplotlib.ipynb",
      "provenance": [],
      "authorship_tag": "ABX9TyN7USNXRcN3461yHCdfdPVi",
      "include_colab_link": true
    },
    "kernelspec": {
      "name": "python3",
      "display_name": "Python 3"
    },
    "language_info": {
      "name": "python"
    }
  },
  "cells": [
    {
      "cell_type": "markdown",
      "metadata": {
        "id": "view-in-github",
        "colab_type": "text"
      },
      "source": [
        "<a href=\"https://colab.research.google.com/github/JavokhirAmirov/Machine-learning-and-Data-analysis-Coursera/blob/main/Course_1/Week_2/NumPy_SciPy_Matplotlib.ipynb\" target=\"_parent\"><img src=\"https://colab.research.google.com/assets/colab-badge.svg\" alt=\"Open In Colab\"/></a>"
      ]
    },
    {
      "cell_type": "markdown",
      "metadata": {
        "id": "z8VlTxC6Zq7I"
      },
      "source": [
        "# Знакомство с NumPy, SciPy и Matplotlib\n",
        "## NumPy"
      ]
    },
    {
      "cell_type": "code",
      "metadata": {
        "id": "nSUJqqplZdUn"
      },
      "source": [
        "import numpy as np"
      ],
      "execution_count": 8,
      "outputs": []
    },
    {
      "cell_type": "code",
      "metadata": {
        "id": "UI3rYyaiZo_I"
      },
      "source": [
        "x = [2, 3, 4, 6]\n",
        "y = np.array(x)"
      ],
      "execution_count": 2,
      "outputs": []
    },
    {
      "cell_type": "code",
      "metadata": {
        "colab": {
          "base_uri": "https://localhost:8080/"
        },
        "id": "lY5RvlzuaTkL",
        "outputId": "4330e91e-4c88-4591-a440-3481f17abcc4"
      },
      "source": [
        "print(type(x), x)\n",
        "print(type(y), y)"
      ],
      "execution_count": 3,
      "outputs": [
        {
          "output_type": "stream",
          "text": [
            "<class 'list'> [2, 3, 4, 6]\n",
            "<class 'numpy.ndarray'> [2 3 4 6]\n"
          ],
          "name": "stdout"
        }
      ]
    },
    {
      "cell_type": "code",
      "metadata": {
        "colab": {
          "base_uri": "https://localhost:8080/"
        },
        "id": "gog3qgO5acvc",
        "outputId": "ddf03d97-5926-466a-d065-090228514327"
      },
      "source": [
        "print(x[1:3])"
      ],
      "execution_count": 4,
      "outputs": [
        {
          "output_type": "stream",
          "text": [
            "[3, 4]\n"
          ],
          "name": "stdout"
        }
      ]
    },
    {
      "cell_type": "code",
      "metadata": {
        "colab": {
          "base_uri": "https://localhost:8080/"
        },
        "id": "qgcSdRnmanJ_",
        "outputId": "7e5bdbbc-7715-4d01-defe-23c514ebc01d"
      },
      "source": [
        "print(y[1:3])"
      ],
      "execution_count": 5,
      "outputs": [
        {
          "output_type": "stream",
          "text": [
            "[3 4]\n"
          ],
          "name": "stdout"
        }
      ]
    },
    {
      "cell_type": "code",
      "metadata": {
        "colab": {
          "base_uri": "https://localhost:8080/",
          "height": 162
        },
        "id": "2JHZJp7kanH-",
        "outputId": "709c9102-bd00-4636-ddab-aab67df42d87"
      },
      "source": [
        "print(x[[0, 2]])"
      ],
      "execution_count": 6,
      "outputs": [
        {
          "output_type": "error",
          "ename": "TypeError",
          "evalue": "ignored",
          "traceback": [
            "\u001b[0;31m---------------------------------------------------------------------------\u001b[0m",
            "\u001b[0;31mTypeError\u001b[0m                                 Traceback (most recent call last)",
            "\u001b[0;32m<ipython-input-6-6fd130ba5201>\u001b[0m in \u001b[0;36m<module>\u001b[0;34m()\u001b[0m\n\u001b[0;32m----> 1\u001b[0;31m \u001b[0mprint\u001b[0m\u001b[0;34m(\u001b[0m\u001b[0mx\u001b[0m\u001b[0;34m[\u001b[0m\u001b[0;34m[\u001b[0m\u001b[0;36m0\u001b[0m\u001b[0;34m,\u001b[0m \u001b[0;36m2\u001b[0m\u001b[0;34m]\u001b[0m\u001b[0;34m]\u001b[0m\u001b[0;34m)\u001b[0m\u001b[0;34m\u001b[0m\u001b[0;34m\u001b[0m\u001b[0m\n\u001b[0m",
            "\u001b[0;31mTypeError\u001b[0m: list indices must be integers or slices, not list"
          ]
        }
      ]
    },
    {
      "cell_type": "code",
      "metadata": {
        "colab": {
          "base_uri": "https://localhost:8080/"
        },
        "id": "ef3nX12DanFK",
        "outputId": "d7902fc4-d3bc-436c-946f-dca60d3bd20a"
      },
      "source": [
        "print(y[[0, 2]])"
      ],
      "execution_count": 7,
      "outputs": [
        {
          "output_type": "stream",
          "text": [
            "[2 4]\n"
          ],
          "name": "stdout"
        }
      ]
    },
    {
      "cell_type": "code",
      "metadata": {
        "colab": {
          "base_uri": "https://localhost:8080/"
        },
        "id": "NAYC3vTKanCd",
        "outputId": "67a63e79-e148-49b1-a275-b13cd3b22323"
      },
      "source": [
        "print(y[y>3])"
      ],
      "execution_count": 8,
      "outputs": [
        {
          "output_type": "stream",
          "text": [
            "[4 6]\n"
          ],
          "name": "stdout"
        }
      ]
    },
    {
      "cell_type": "code",
      "metadata": {
        "colab": {
          "base_uri": "https://localhost:8080/"
        },
        "id": "ACivznZRam_g",
        "outputId": "33b17545-99f6-4f2a-af04-741e9b4e4338"
      },
      "source": [
        "print(x * 5)"
      ],
      "execution_count": 9,
      "outputs": [
        {
          "output_type": "stream",
          "text": [
            "[2, 3, 4, 6, 2, 3, 4, 6, 2, 3, 4, 6, 2, 3, 4, 6, 2, 3, 4, 6]\n"
          ],
          "name": "stdout"
        }
      ]
    },
    {
      "cell_type": "code",
      "metadata": {
        "colab": {
          "base_uri": "https://localhost:8080/"
        },
        "id": "Z2rIfw2sam8y",
        "outputId": "a1ce11d6-3011-4ce6-abd5-454d93f3f02b"
      },
      "source": [
        "print(y * 5)"
      ],
      "execution_count": 10,
      "outputs": [
        {
          "output_type": "stream",
          "text": [
            "[10 15 20 30]\n"
          ],
          "name": "stdout"
        }
      ]
    },
    {
      "cell_type": "code",
      "metadata": {
        "colab": {
          "base_uri": "https://localhost:8080/",
          "height": 162
        },
        "id": "gVTxc31kam5_",
        "outputId": "6191d8ef-6093-4788-b4bc-7a324b0c1eeb"
      },
      "source": [
        "print(x ** 2)"
      ],
      "execution_count": 11,
      "outputs": [
        {
          "output_type": "error",
          "ename": "TypeError",
          "evalue": "ignored",
          "traceback": [
            "\u001b[0;31m---------------------------------------------------------------------------\u001b[0m",
            "\u001b[0;31mTypeError\u001b[0m                                 Traceback (most recent call last)",
            "\u001b[0;32m<ipython-input-11-2d3f09e96d2e>\u001b[0m in \u001b[0;36m<module>\u001b[0;34m()\u001b[0m\n\u001b[0;32m----> 1\u001b[0;31m \u001b[0mprint\u001b[0m\u001b[0;34m(\u001b[0m\u001b[0mx\u001b[0m \u001b[0;34m**\u001b[0m \u001b[0;36m2\u001b[0m\u001b[0;34m)\u001b[0m\u001b[0;34m\u001b[0m\u001b[0;34m\u001b[0m\u001b[0m\n\u001b[0m",
            "\u001b[0;31mTypeError\u001b[0m: unsupported operand type(s) for ** or pow(): 'list' and 'int'"
          ]
        }
      ]
    },
    {
      "cell_type": "code",
      "metadata": {
        "colab": {
          "base_uri": "https://localhost:8080/"
        },
        "id": "rVIc2FEXam3B",
        "outputId": "4dbd0890-b0a4-47c6-8027-e3e612c20fde"
      },
      "source": [
        "print(y ** 2)"
      ],
      "execution_count": 12,
      "outputs": [
        {
          "output_type": "stream",
          "text": [
            "[ 4  9 16 36]\n"
          ],
          "name": "stdout"
        }
      ]
    },
    {
      "cell_type": "code",
      "metadata": {
        "id": "a6bu7JpRam0a"
      },
      "source": [
        "matrix = [[1, 2, 4], [3, 1, 0]]\n",
        "np_array = np.array(matrix)"
      ],
      "execution_count": 13,
      "outputs": []
    },
    {
      "cell_type": "code",
      "metadata": {
        "colab": {
          "base_uri": "https://localhost:8080/"
        },
        "id": "AyuYP1Dqbx4d",
        "outputId": "46584853-6ad8-4a4d-df7f-8009a69038ed"
      },
      "source": [
        "print(matrix[1][2])"
      ],
      "execution_count": 14,
      "outputs": [
        {
          "output_type": "stream",
          "text": [
            "0\n"
          ],
          "name": "stdout"
        }
      ]
    },
    {
      "cell_type": "code",
      "metadata": {
        "colab": {
          "base_uri": "https://localhost:8080/"
        },
        "id": "cLHm6JoYbx1j",
        "outputId": "97e1ea2c-1968-4c36-d527-4a213d7d8036"
      },
      "source": [
        "print(np_array[1, 2])"
      ],
      "execution_count": 16,
      "outputs": [
        {
          "output_type": "stream",
          "text": [
            "0\n"
          ],
          "name": "stdout"
        }
      ]
    },
    {
      "cell_type": "code",
      "metadata": {
        "colab": {
          "base_uri": "https://localhost:8080/"
        },
        "id": "5XSc4w1Gbxy5",
        "outputId": "56d70e2c-8a13-47e4-c41e-a3e69a09aea4"
      },
      "source": [
        "print(np.random.rand())"
      ],
      "execution_count": 17,
      "outputs": [
        {
          "output_type": "stream",
          "text": [
            "0.7913836779152907\n"
          ],
          "name": "stdout"
        }
      ]
    },
    {
      "cell_type": "code",
      "metadata": {
        "colab": {
          "base_uri": "https://localhost:8080/"
        },
        "id": "1WjMv7qnbxuE",
        "outputId": "d09e684f-cf72-4d94-a7f9-45f407968483"
      },
      "source": [
        "print(np.random.randn())"
      ],
      "execution_count": 18,
      "outputs": [
        {
          "output_type": "stream",
          "text": [
            "0.7801255036450845\n"
          ],
          "name": "stdout"
        }
      ]
    },
    {
      "cell_type": "code",
      "metadata": {
        "colab": {
          "base_uri": "https://localhost:8080/"
        },
        "id": "Ny5NuBV_bxqs",
        "outputId": "21c877a6-2210-4548-f582-d92df3fd9ecb"
      },
      "source": [
        "print(np.random.randn(4))"
      ],
      "execution_count": 19,
      "outputs": [
        {
          "output_type": "stream",
          "text": [
            "[-0.1712242  -2.08965437  0.60709347  1.13728536]\n"
          ],
          "name": "stdout"
        }
      ]
    },
    {
      "cell_type": "code",
      "metadata": {
        "colab": {
          "base_uri": "https://localhost:8080/"
        },
        "id": "4NgurpMUbxnx",
        "outputId": "5fc58232-04ec-4caf-8006-e1fd28106adc"
      },
      "source": [
        "print(np.random.randn(4, 5))"
      ],
      "execution_count": 22,
      "outputs": [
        {
          "output_type": "stream",
          "text": [
            "[[-0.78095546  0.39900174  1.19211931  0.83638005  1.22429502]\n",
            " [ 0.74133953 -0.14892234 -0.21127046  0.06906058 -0.23411268]\n",
            " [ 0.89948788  0.19972141 -0.60104324 -2.16883413 -0.1083581 ]\n",
            " [ 1.43215658 -0.29077058  0.21912934  0.77395159 -0.15228501]]\n"
          ],
          "name": "stdout"
        }
      ]
    },
    {
      "cell_type": "code",
      "metadata": {
        "colab": {
          "base_uri": "https://localhost:8080/"
        },
        "id": "30U7gu2namxm",
        "outputId": "9b50bb36-7fe1-4bf0-ee0b-7abd74d7d785"
      },
      "source": [
        "print(np.arange(0, 8, 0.1))"
      ],
      "execution_count": 21,
      "outputs": [
        {
          "output_type": "stream",
          "text": [
            "[0.  0.1 0.2 0.3 0.4 0.5 0.6 0.7 0.8 0.9 1.  1.1 1.2 1.3 1.4 1.5 1.6 1.7\n",
            " 1.8 1.9 2.  2.1 2.2 2.3 2.4 2.5 2.6 2.7 2.8 2.9 3.  3.1 3.2 3.3 3.4 3.5\n",
            " 3.6 3.7 3.8 3.9 4.  4.1 4.2 4.3 4.4 4.5 4.6 4.7 4.8 4.9 5.  5.1 5.2 5.3\n",
            " 5.4 5.5 5.6 5.7 5.8 5.9 6.  6.1 6.2 6.3 6.4 6.5 6.6 6.7 6.8 6.9 7.  7.1\n",
            " 7.2 7.3 7.4 7.5 7.6 7.7 7.8 7.9]\n"
          ],
          "name": "stdout"
        }
      ]
    },
    {
      "cell_type": "code",
      "metadata": {
        "colab": {
          "base_uri": "https://localhost:8080/",
          "height": 279
        },
        "id": "ulGHc-zdamvK",
        "outputId": "dfd015be-52ad-40ea-aa92-6ffff669c57d"
      },
      "source": [
        "print(np.range(0, 8, 0.1))"
      ],
      "execution_count": 23,
      "outputs": [
        {
          "output_type": "error",
          "ename": "AttributeError",
          "evalue": "ignored",
          "traceback": [
            "\u001b[0;31m---------------------------------------------------------------------------\u001b[0m",
            "\u001b[0;31mAttributeError\u001b[0m                            Traceback (most recent call last)",
            "\u001b[0;32m<ipython-input-23-c09e3b05fe64>\u001b[0m in \u001b[0;36m<module>\u001b[0;34m()\u001b[0m\n\u001b[0;32m----> 1\u001b[0;31m \u001b[0mprint\u001b[0m\u001b[0;34m(\u001b[0m\u001b[0mnp\u001b[0m\u001b[0;34m.\u001b[0m\u001b[0mrange\u001b[0m\u001b[0;34m(\u001b[0m\u001b[0;36m0\u001b[0m\u001b[0;34m,\u001b[0m \u001b[0;36m8\u001b[0m\u001b[0;34m,\u001b[0m \u001b[0;36m0.1\u001b[0m\u001b[0;34m)\u001b[0m\u001b[0;34m)\u001b[0m\u001b[0;34m\u001b[0m\u001b[0;34m\u001b[0m\u001b[0m\n\u001b[0m",
            "\u001b[0;32m/usr/local/lib/python3.7/dist-packages/numpy/__init__.py\u001b[0m in \u001b[0;36m__getattr__\u001b[0;34m(attr)\u001b[0m\n\u001b[1;32m    213\u001b[0m             \u001b[0;32melse\u001b[0m\u001b[0;34m:\u001b[0m\u001b[0;34m\u001b[0m\u001b[0;34m\u001b[0m\u001b[0m\n\u001b[1;32m    214\u001b[0m                 raise AttributeError(\"module {!r} has no attribute \"\n\u001b[0;32m--> 215\u001b[0;31m                                      \"{!r}\".format(__name__, attr))\n\u001b[0m\u001b[1;32m    216\u001b[0m \u001b[0;34m\u001b[0m\u001b[0m\n\u001b[1;32m    217\u001b[0m         \u001b[0;32mdef\u001b[0m \u001b[0m__dir__\u001b[0m\u001b[0;34m(\u001b[0m\u001b[0;34m)\u001b[0m\u001b[0;34m:\u001b[0m\u001b[0;34m\u001b[0m\u001b[0;34m\u001b[0m\u001b[0m\n",
            "\u001b[0;31mAttributeError\u001b[0m: module 'numpy' has no attribute 'range'"
          ]
        }
      ]
    },
    {
      "cell_type": "code",
      "metadata": {
        "colab": {
          "base_uri": "https://localhost:8080/"
        },
        "id": "VFRB_VsAamsU",
        "outputId": "5962e367-8d2d-45ff-d956-83a29c438988"
      },
      "source": [
        "%timeit np.arange(0, 10000)\n",
        "%timeit range(0, 10000)"
      ],
      "execution_count": 25,
      "outputs": [
        {
          "output_type": "stream",
          "text": [
            "The slowest run took 177.40 times longer than the fastest. This could mean that an intermediate result is being cached.\n",
            "100000 loops, best of 5: 8.07 µs per loop\n",
            "The slowest run took 5.89 times longer than the fastest. This could mean that an intermediate result is being cached.\n",
            "1000000 loops, best of 5: 252 ns per loop\n"
          ],
          "name": "stdout"
        }
      ]
    },
    {
      "cell_type": "markdown",
      "metadata": {
        "id": "4hyokCIwnDuX"
      },
      "source": [
        "## SciPy"
      ]
    },
    {
      "cell_type": "code",
      "metadata": {
        "id": "rGda_Jb_mo7c"
      },
      "source": [
        "from scipy import optimize"
      ],
      "execution_count": 1,
      "outputs": []
    },
    {
      "cell_type": "code",
      "metadata": {
        "colab": {
          "base_uri": "https://localhost:8080/"
        },
        "id": "nTLpWgIoMnWl",
        "outputId": "4a833682-6410-4cd4-dddc-d032cd2fdb44"
      },
      "source": [
        "def f(x):\n",
        "  return (x[0] - 3.2) ** 2 + (x[1] - 0.1) ** 2 + 3\n",
        "print(f([3.2, 0.1]))"
      ],
      "execution_count": 4,
      "outputs": [
        {
          "output_type": "stream",
          "text": [
            "3.0\n"
          ],
          "name": "stdout"
        }
      ]
    },
    {
      "cell_type": "code",
      "metadata": {
        "colab": {
          "base_uri": "https://localhost:8080/"
        },
        "id": "AhPhWHl-NEXV",
        "outputId": "1f7c0506-5b68-4825-f8c3-0576c12b9906"
      },
      "source": [
        "x_min = optimize.minimize(f, [5, 5])\n",
        "print(x_min)"
      ],
      "execution_count": 5,
      "outputs": [
        {
          "output_type": "stream",
          "text": [
            "      fun: 3.0000000000011435\n",
            " hess_inv: array([[ 0.94055055, -0.16183475],\n",
            "       [-0.16183475,  0.55944947]])\n",
            "      jac: array([-2.05636024e-06,  5.36441803e-07])\n",
            "  message: 'Optimization terminated successfully.'\n",
            "     nfev: 16\n",
            "      nit: 3\n",
            "     njev: 4\n",
            "   status: 0\n",
            "  success: True\n",
            "        x: array([3.19999896, 0.10000026])\n"
          ],
          "name": "stdout"
        }
      ]
    },
    {
      "cell_type": "code",
      "metadata": {
        "colab": {
          "base_uri": "https://localhost:8080/"
        },
        "id": "4-HF3nQ6NEUb",
        "outputId": "25b29d88-4cca-47f6-fe67-69be916518c5"
      },
      "source": [
        "print(x_min.x)"
      ],
      "execution_count": 6,
      "outputs": [
        {
          "output_type": "stream",
          "text": [
            "[3.19999896 0.10000026]\n"
          ],
          "name": "stdout"
        }
      ]
    },
    {
      "cell_type": "code",
      "metadata": {
        "id": "5YK_am_DNER7"
      },
      "source": [
        "from scipy import linalg"
      ],
      "execution_count": 7,
      "outputs": []
    },
    {
      "cell_type": "code",
      "metadata": {
        "colab": {
          "base_uri": "https://localhost:8080/"
        },
        "id": "JuzZxtXrNEP1",
        "outputId": "a6f7d6c6-c1a4-4793-8461-6ef69af35d47"
      },
      "source": [
        "a = np.array([[3, 2, 0], [1, -1, 0], [0, 5, 1]])\n",
        "b = np.array([2, 4, -1])\n",
        "\n",
        "x = linalg.solve(a, b)\n",
        "print(x)"
      ],
      "execution_count": 9,
      "outputs": [
        {
          "output_type": "stream",
          "text": [
            "[ 2. -2.  9.]\n"
          ],
          "name": "stdout"
        }
      ]
    },
    {
      "cell_type": "code",
      "metadata": {
        "colab": {
          "base_uri": "https://localhost:8080/"
        },
        "id": "U6lBu0pLNEMW",
        "outputId": "320f4d6b-c341-4edc-99e1-19c4f5ad1630"
      },
      "source": [
        "print(np.dot(a, x))"
      ],
      "execution_count": 10,
      "outputs": [
        {
          "output_type": "stream",
          "text": [
            "[ 2.  4. -1.]\n"
          ],
          "name": "stdout"
        }
      ]
    },
    {
      "cell_type": "code",
      "metadata": {
        "colab": {
          "base_uri": "https://localhost:8080/"
        },
        "id": "IP0DKOfsNEJ2",
        "outputId": "dacfabe2-81cf-4f65-c698-dc37cbebc2fd"
      },
      "source": [
        "X = np.random.randn(4,3)\n",
        "U, D, V = linalg.svd(X)\n",
        "print(U.shape, D.shape, V.shape)\n",
        "print(type(U), type(D), type(V))"
      ],
      "execution_count": 11,
      "outputs": [
        {
          "output_type": "stream",
          "text": [
            "(4, 4) (3,) (3, 3)\n",
            "<class 'numpy.ndarray'> <class 'numpy.ndarray'> <class 'numpy.ndarray'>\n"
          ],
          "name": "stdout"
        }
      ]
    },
    {
      "cell_type": "markdown",
      "metadata": {
        "id": "6i0NGL6lP0cL"
      },
      "source": [
        "## Matplotlib"
      ]
    },
    {
      "cell_type": "code",
      "metadata": {
        "id": "eGrtU_5gNEGm"
      },
      "source": [
        "%matplotlib inline"
      ],
      "execution_count": 12,
      "outputs": []
    },
    {
      "cell_type": "code",
      "metadata": {
        "colab": {
          "base_uri": "https://localhost:8080/",
          "height": 265
        },
        "id": "X8v4f3ewNEDz",
        "outputId": "27ee60ad-9f85-4706-b616-6300d9a8f1a0"
      },
      "source": [
        "from matplotlib import pylab as plt\n",
        "\n",
        "plt.plot([1, 2, 3, 4], [1, 4, 9, 16])\n",
        "plt.show()"
      ],
      "execution_count": 13,
      "outputs": [
        {
          "output_type": "display_data",
          "data": {
            "image/png": "[encoded data removed]",
            "text/plain": [
              "<Figure size 432x288 with 1 Axes>"
            ]
          },
          "metadata": {
            "tags": [],
            "needs_background": "light"
          }
        }
      ]
    },
    {
      "cell_type": "code",
      "metadata": {
        "colab": {
          "base_uri": "https://localhost:8080/",
          "height": 265
        },
        "id": "T3paWIm3NEBL",
        "outputId": "764992f1-f75d-4d57-d85d-492f6bb94e6d"
      },
      "source": [
        "x = np.arange(-10, 10, 0.1)\n",
        "y = x ** 3\n",
        "plt.plot(x, y)\n",
        "plt.show()"
      ],
      "execution_count": 14,
      "outputs": [
        {
          "output_type": "display_data",
          "data": {
            "image/png": "[encoded data removed]",
            "text/plain": [
              "<Figure size 432x288 with 1 Axes>"
            ]
          },
          "metadata": {
            "tags": [],
            "needs_background": "light"
          }
        }
      ]
    },
    {
      "cell_type": "markdown",
      "metadata": {
        "id": "_rD-hkemQ7-b"
      },
      "source": [
        "## Все вместе"
      ]
    },
    {
      "cell_type": "code",
      "metadata": {
        "id": "mAOwfnlBND-Z"
      },
      "source": [
        "%matplotlib inline\n",
        "import numpy as np\n",
        "import matplotlib.pyplot as plt\n",
        "from scipy import interpolate"
      ],
      "execution_count": 16,
      "outputs": []
    },
    {
      "cell_type": "code",
      "metadata": {
        "colab": {
          "base_uri": "https://localhost:8080/"
        },
        "id": "hXkJ8QRkND7-",
        "outputId": "98726fb0-62dd-4ac5-ade7-ca58ec3367b6"
      },
      "source": [
        "x = np.arange(0, 10, 2)\n",
        "y = np.exp(-x/3)\n",
        "\n",
        "print(x[:5])\n",
        "print(y[:5])"
      ],
      "execution_count": 39,
      "outputs": [
        {
          "output_type": "stream",
          "text": [
            "[0 2 4 6 8]\n",
            "[1.         0.51341712 0.26359714 0.13533528 0.06948345]\n"
          ],
          "name": "stdout"
        }
      ]
    },
    {
      "cell_type": "code",
      "metadata": {
        "id": "eLWCvpcdND46"
      },
      "source": [
        "f = interpolate.interp1d(x, y, kind='quadratic')\n",
        "xnew = np.arange(0, 8, 0.1)\n",
        "ynew = f(xnew)"
      ],
      "execution_count": 40,
      "outputs": []
    },
    {
      "cell_type": "code",
      "metadata": {
        "colab": {
          "base_uri": "https://localhost:8080/",
          "height": 282
        },
        "id": "VZEGL3paND2u",
        "outputId": "24c23da6-a670-47d0-da9e-439142916936"
      },
      "source": [
        "plt.plot(x, y, 'o', xnew, ynew, '-')\n",
        "plt.show"
      ],
      "execution_count": 41,
      "outputs": [
        {
          "output_type": "execute_result",
          "data": {
            "text/plain": [
              "<function matplotlib.pyplot.show>"
            ]
          },
          "metadata": {
            "tags": []
          },
          "execution_count": 41
        },
        {
          "output_type": "display_data",
          "data": {
            "image/png": "[encoded data removed]",
            "text/plain": [
              "<Figure size 432x288 with 1 Axes>"
            ]
          },
          "metadata": {
            "tags": [],
            "needs_background": "light"
          }
        }
      ]
    },
    {
      "cell_type": "code",
      "metadata": {
        "id": "o5fJY14VNDzp"
      },
      "source": [
        "x = np.array(x[x>3])"
      ],
      "execution_count": 42,
      "outputs": []
    },
    {
      "cell_type": "code",
      "metadata": {
        "colab": {
          "base_uri": "https://localhost:8080/"
        },
        "id": "yHbSbU5wNDxR",
        "outputId": "dc8d6c54-fb9a-48f8-bf14-19ee8ca74915"
      },
      "source": [
        "x"
      ],
      "execution_count": 43,
      "outputs": [
        {
          "output_type": "execute_result",
          "data": {
            "text/plain": [
              "array([4, 6, 8])"
            ]
          },
          "metadata": {
            "tags": []
          },
          "execution_count": 43
        }
      ]
    },
    {
      "cell_type": "code",
      "metadata": {
        "colab": {
          "base_uri": "https://localhost:8080/"
        },
        "id": "unMdwdH2NDvB",
        "outputId": "08273b3c-0af1-4932-ddc2-dfe9cd6aa75c"
      },
      "source": [
        "print(np.random.rand(4, 5))"
      ],
      "execution_count": 45,
      "outputs": [
        {
          "output_type": "stream",
          "text": [
            "[[0.95314655 0.36512906 0.56419319 0.33510799 0.64276369]\n",
            " [0.58731424 0.87354473 0.42866938 0.56852255 0.14872081]\n",
            " [0.13358505 0.22110093 0.72937967 0.12698242 0.0378527 ]\n",
            " [0.13696494 0.16492868 0.57130612 0.74560824 0.13077116]]\n"
          ],
          "name": "stdout"
        }
      ]
    }
  ]
}